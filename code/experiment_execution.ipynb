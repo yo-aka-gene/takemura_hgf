{
 "cells": [
  {
   "cell_type": "code",
   "execution_count": 1,
   "id": "e9b4bc3c-da8c-4e8e-b68d-bba8b4b2c312",
   "metadata": {},
   "outputs": [],
   "source": [
    "from tools import Artist, EDA, SuematsuData, metapipeline\n",
    "from tools import StratifiedGOAnalysis as SGOA\n",
    "from tools import eda_longitudinal_args as ela\n",
    "from tools import sgoa_longitudinal_args as sla"
   ]
  },
  {
   "cell_type": "code",
   "execution_count": 2,
   "id": "a63aae05-f894-4799-91b7-5428627593a5",
   "metadata": {},
   "outputs": [],
   "source": [
    "data = SuematsuData()\n",
    "metapipeline([\n",
    "    Artist(), \n",
    "    EDA(data, adgile=True), \n",
    "    EDA(data, args=ela, adgile=True),\n",
    "    SGOA(data, adgile=True),\n",
    "    SGOA(data, **sla, adgile=True)\n",
    "])"
   ]
  }
 ],
 "metadata": {
  "kernelspec": {
   "display_name": "Python 3 (ipykernel)",
   "language": "python",
   "name": "python3"
  },
  "language_info": {
   "codemirror_mode": {
    "name": "ipython",
    "version": 3
   },
   "file_extension": ".py",
   "mimetype": "text/x-python",
   "name": "python",
   "nbconvert_exporter": "python",
   "pygments_lexer": "ipython3",
   "version": "3.10.8"
  }
 },
 "nbformat": 4,
 "nbformat_minor": 5
}
