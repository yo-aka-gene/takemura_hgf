{
 "cells": [
  {
   "cell_type": "code",
   "execution_count": 1,
   "id": "e9b4bc3c-da8c-4e8e-b68d-bba8b4b2c312",
   "metadata": {},
   "outputs": [],
   "source": [
    "from tools import SuematsuData, EDA, StratifiedGOAnalysis, MetaPipeline"
   ]
  },
  {
   "cell_type": "code",
   "execution_count": 2,
   "id": "81f0fe58-ad91-4781-b942-11bedcba1a42",
   "metadata": {},
   "outputs": [
    {
     "data": {
      "text/plain": [
       "<tools._meta_pipeline.MetaPipeline at 0x7fbde70f9240>"
      ]
     },
     "execution_count": 2,
     "metadata": {},
     "output_type": "execute_result"
    }
   ],
   "source": [
    "data = SuematsuData()\n",
    "MetaPipeline([EDA(data=data), StratifiedGOAnalysis(data=data)], close=True)"
   ]
  }
 ],
 "metadata": {
  "kernelspec": {
   "display_name": "Python 3 (ipykernel)",
   "language": "python",
   "name": "python3"
  },
  "language_info": {
   "codemirror_mode": {
    "name": "ipython",
    "version": 3
   },
   "file_extension": ".py",
   "mimetype": "text/x-python",
   "name": "python",
   "nbconvert_exporter": "python",
   "pygments_lexer": "ipython3",
   "version": "3.10.8"
  }
 },
 "nbformat": 4,
 "nbformat_minor": 5
}
