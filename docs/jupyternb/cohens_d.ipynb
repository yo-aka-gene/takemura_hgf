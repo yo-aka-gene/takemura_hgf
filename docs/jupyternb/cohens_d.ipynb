{
 "cells": [
  {
   "cell_type": "markdown",
   "id": "3915d6c7-638c-45ba-ac5a-05eaa005b5ea",
   "metadata": {},
   "source": [
    "# Cohen's d Value\n",
    "## Definition\n",
    "- Cohens's $d$ value of sample populations $X$ and $Y$ can be defined as follows:\n",
    "\n",
    "    $d:=\\frac{m_X-m_Y}{\\sqrt{\\frac{n_Xs_X^2+n_Ys_Y^2}{n_X+n_Y}}}$\n",
    "    \n",
    "    where the means are $m_X$ or $m_Y$, sample standard deviations are $s_X$ or $s_Y$, and the samples sizes are $n_X$ or $n_Y$"
   ]
  },
  {
   "cell_type": "code",
   "execution_count": 1,
   "id": "c326aa34-a7b4-4792-a7aa-69c16d9d091f",
   "metadata": {},
   "outputs": [],
   "source": [
    "from tools import cohens_d, gene_selection"
   ]
  },
  {
   "cell_type": "markdown",
   "id": "bdf7ec24-03fb-4f43-823e-17a5dddf5802",
   "metadata": {},
   "source": [
    "## Documentation\n",
    "- **Note**: [`EDA`](https://takemura-hgf.readthedocs.io/en/latest/jupyternb/eda.html) calls the functions below but they are not explicitly called in analysis codes\n",
    "### 1. `cohens_d`\n",
    "- arguments\n",
    "    - `data`: `pandas.DataFrame`\n",
    "    - `group`: `pandas.Series`\n",
    "        - **Note**: these args expect DataFrames or Serieses subscribed in [`SuematsuData`](https://takemura-hgf.readthedocs.io/en/latest/jupyternb/suematsudata.html)\n",
    "        - see **Examples** for more details\n",
    "    - `regex`: `str`\n",
    "        - argment for `pandas.DataFrame.filter`\n",
    "        - pass str to that `pandas.DataFrame.filter` can filter groups of interests\n",
    "        - see **Examples** for more details\n",
    "    - `flip`: bool (default:False)\n",
    "        - pass True to flip the assignment of $X$ or $Y$ to the given populations\n",
    "- return: `pandas.Series` of Cohen's d values\n",
    "### 2. `gene_selection`\n",
    "- arguments\n",
    "    - `data`: `pandas.DataFrame`\n",
    "    - `group`: `pandas.Series`\n",
    "        - **Note**: these args expect DataFrames or Serieses subscribed in [`SuematsuData`](https://takemura-hgf.readthedocs.io/en/latest/jupyternb/suematsudata.html)\n",
    "        - see **Examples** for more details\n",
    "    - `regex`: `str`\n",
    "        - argment for `pandas.DataFrame.filter`\n",
    "        - pass str to that `pandas.DataFrame.filter` can filter groups of interests\n",
    "        - see **Examples** for more details\n",
    "    - `d`: float (default:0.8)\n",
    "        - Cohen's d value for the threshold.\n",
    "        - upregulated genes will be defined to show larger Cohen's d values than the threshold (>`d`)\n",
    "        - downregulated genes will be defined to show smaller Cohen's d values than the threshold (<`d`)\n",
    "    - `neg`: bool (default:False)\n",
    "        - pass True to retrun downregulated genes; otherwise, upregulated genes are returned\n",
    "    - `flip`: bool (default:False)\n",
    "        - pass True to flip the definition of upregulated/downregulated genes\n",
    "- return: `pandas.Series` of upregulated/downregulated genes\n",
    "---\n",
    "## Examples\n",
    "- data: `SuematsuData`\n",
    "- comparison: day7-HGF+ vs day2-HGF+\n",
    "    - **Note**: upregulated genes are enriched in day7-HGF+\n",
    "    - `regex`: \"HGF+\"\n",
    "- threshold: 0.8\n",
    "    - `d`: 0.8"
   ]
  },
  {
   "cell_type": "code",
   "execution_count": 2,
   "id": "09c22302-446d-4029-be43-3711cffb9bd1",
   "metadata": {},
   "outputs": [
    {
     "name": "stdout",
     "output_type": "stream",
     "text": [
      "\n",
      "data.data: <class 'pandas.core.frame.DataFrame'>\n",
      "data.group: <class 'pandas.core.series.Series'>\n",
      "\n"
     ]
    }
   ],
   "source": [
    "from tools import SuematsuData\n",
    "data = SuematsuData()\n",
    "\n",
    "print(f\"\"\"\n",
    "data.data: {type(data.data)}\n",
    "data.group: {type(data.group)}\n",
    "\"\"\")"
   ]
  },
  {
   "cell_type": "code",
   "execution_count": 3,
   "id": "e1dee5c2-ce09-4261-8119-25699a66b757",
   "metadata": {},
   "outputs": [
    {
     "data": {
      "text/plain": [
       "Adcyap1        -1.109006\n",
       "Adcyap1r1      -2.471432\n",
       "Add2           -1.433537\n",
       "Adra2c         -1.538979\n",
       "Agt            -3.277344\n",
       "                  ...   \n",
       "LOC108353194   -3.710465\n",
       "LOC108353205   -6.457637\n",
       "LOC108353206   -2.336801\n",
       "LOC108353207   -2.988864\n",
       "LOC108353295   -4.645315\n",
       "Length: 3355, dtype: float64"
      ]
     },
     "execution_count": 3,
     "metadata": {},
     "output_type": "execute_result"
    }
   ],
   "source": [
    "cohens_d(data=data.data, group=data.group, regex=\"HGF+\")"
   ]
  },
  {
   "cell_type": "code",
   "execution_count": 4,
   "id": "dd9af658-027a-4365-8eb6-281e6a03ca14",
   "metadata": {},
   "outputs": [
    {
     "data": {
      "text/plain": [
       "S100a8          24.464911\n",
       "Hba1            23.445783\n",
       "Hba2            21.395015\n",
       "Hbb             21.221507\n",
       "S100a9          20.945858\n",
       "                  ...    \n",
       "Frem2            0.897932\n",
       "Rmrp             0.893452\n",
       "LOC100912347     0.890102\n",
       "LOC686035        0.853276\n",
       "Pf4              0.800051\n",
       "Length: 242, dtype: float64"
      ]
     },
     "execution_count": 4,
     "metadata": {},
     "output_type": "execute_result"
    }
   ],
   "source": [
    "# upregulated genes\n",
    "gene_selection(data=data.data, group=data.group, regex=\"HGF+\", d=0.8)"
   ]
  },
  {
   "cell_type": "code",
   "execution_count": 5,
   "id": "8356a906-dd9f-40ca-9c67-0264463feb10",
   "metadata": {},
   "outputs": [
    {
     "data": {
      "text/plain": [
       "Rn45s          -30.924380\n",
       "S100b          -22.132822\n",
       "mt-Rnr2        -20.783350\n",
       "Dusp1          -20.763104\n",
       "Tubb4a         -20.751691\n",
       "                  ...    \n",
       "Pdzd7           -0.823694\n",
       "LOC501317       -0.816093\n",
       "Adprhl1         -0.815504\n",
       "Kcnma1          -0.809355\n",
       "LOC108349559    -0.805570\n",
       "Length: 2990, dtype: float64"
      ]
     },
     "execution_count": 5,
     "metadata": {},
     "output_type": "execute_result"
    }
   ],
   "source": [
    "# downregulated genes\n",
    "gene_selection(data=data.data, group=data.group, regex=\"HGF+\", d=0.8, neg=True)"
   ]
  }
 ],
 "metadata": {
  "kernelspec": {
   "display_name": "Python 3 (ipykernel)",
   "language": "python",
   "name": "python3"
  },
  "language_info": {
   "codemirror_mode": {
    "name": "ipython",
    "version": 3
   },
   "file_extension": ".py",
   "mimetype": "text/x-python",
   "name": "python",
   "nbconvert_exporter": "python",
   "pygments_lexer": "ipython3",
   "version": "3.10.8"
  }
 },
 "nbformat": 4,
 "nbformat_minor": 5
}
