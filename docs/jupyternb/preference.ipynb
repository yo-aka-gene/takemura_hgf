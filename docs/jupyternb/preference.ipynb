{
 "cells": [
  {
   "cell_type": "markdown",
   "id": "d0c7dd11-9086-4609-a66a-8e4ddf77245f",
   "metadata": {},
   "source": [
    "# Argument Preferences"
   ]
  },
  {
   "cell_type": "code",
   "execution_count": 1,
   "id": "c3c2e256-72ed-485f-9047-6dc994d74e1b",
   "metadata": {},
   "outputs": [],
   "source": [
    "from tools import (\n",
    "    # kwargs for matplotlib.savefig\n",
    "    kwarg_savefig, \n",
    "    \n",
    "    # preset arguments for longitudinal comparisons in EDA and StrastifiedGOAnalysis\n",
    "    eda_longitudinal_args, sgoa_longitudinal_args,\n",
    "\n",
    "    # color configurations for venn diagrams in StrastifiedGOAnalysis\n",
    "    venn3_palette1, venn3_palette2, venn3_palette_alias,\n",
    "\n",
    "    # pipeline arguments and utility function\n",
    "    artist_pipeline_adgile, eda_pipeline_adgile, sgoa_pipeline_adgile,\n",
    "    is_skippable\n",
    ")"
   ]
  },
  {
   "cell_type": "markdown",
   "id": "827b6946-01ef-48cb-b809-caa2a4a9dee4",
   "metadata": {},
   "source": [
    "## Keyword Arguments for `matplotlib.savefig`\n",
    "- `kwarg_savefig`: used in [`Artist`](https://takemura-hgf.readthedocs.io/en/latest/jupyternb/artist.html), [`EDA`](https://takemura-hgf.readthedocs.io/en/latest/jupyternb/eda.html), and [`StratifiedGOAnalysis`]()"
   ]
  },
  {
   "cell_type": "code",
   "execution_count": 2,
   "id": "805db0ad-d8d8-4da5-9a0e-52e4c1da49cc",
   "metadata": {},
   "outputs": [
    {
     "data": {
      "text/plain": [
       "{'facecolor': 'white',\n",
       " 'dpi': 300,\n",
       " 'bbox_inches': 'tight',\n",
       " 'pad_inches': 0.05,\n",
       " 'transparent': True}"
      ]
     },
     "execution_count": 2,
     "metadata": {},
     "output_type": "execute_result"
    }
   ],
   "source": [
    "kwarg_savefig"
   ]
  },
  {
   "cell_type": "markdown",
   "id": "df70eff5-11d2-482b-8d7c-1ac5a432f7bb",
   "metadata": {
    "tags": []
   },
   "source": [
    "## Arguments for Longitudinal Comparisons\n",
    "- `eda_longitudinal_args`: for `EDA`\n",
    "- `sgoa_longitudinal_args`: for `StratifiedGOAnalysis`"
   ]
  },
  {
   "cell_type": "code",
   "execution_count": 3,
   "id": "9ed2f73f-a745-4518-815e-27f8b024a9dc",
   "metadata": {},
   "outputs": [
    {
     "data": {
      "text/plain": [
       "{'split_by_days': True,\n",
       " 'set_labels': ('HGF+', 'control'),\n",
       " 'dim_idx': 0,\n",
       " 'flip': True,\n",
       " 'set_colors': ('C1', 'C0', 'C2'),\n",
       " 'pipe': ['butterfly_plot', 'gene_regulation_venn_diagram']}"
      ]
     },
     "execution_count": 3,
     "metadata": {},
     "output_type": "execute_result"
    }
   ],
   "source": [
    "eda_longitudinal_args"
   ]
  },
  {
   "cell_type": "code",
   "execution_count": 4,
   "id": "c75e6c5b-c823-43c1-a28d-65f01d6f174c",
   "metadata": {},
   "outputs": [
    {
     "data": {
      "text/plain": [
       "{'palettes': ('magma', 'cividis'), 'split_by_days': True}"
      ]
     },
     "execution_count": 4,
     "metadata": {},
     "output_type": "execute_result"
    }
   ],
   "source": [
    "sgoa_longitudinal_args"
   ]
  },
  {
   "cell_type": "markdown",
   "id": "5b8a0167-6b85-4ef7-b758-deb686288360",
   "metadata": {},
   "source": [
    "## Color Configuration for Venn Diagrams in `StratifiedGOAnalysis`\n",
    "- `venn3_palette1`: for longitudinal comparisons\n",
    "- `venn3_palette2`: for cross-sectional comparisons\n",
    "- `venn3_palette_alias`: dict of aliases"
   ]
  },
  {
   "cell_type": "code",
   "execution_count": 5,
   "id": "9e265162-655c-4e70-9443-98b7faaab3cb",
   "metadata": {},
   "outputs": [
    {
     "data": {
      "text/plain": [
       "{'100': '#ff7f0e',\n",
       " '010': '#2ca02c',\n",
       " '001': '#1f77b4',\n",
       " '110': '#b4b40e',\n",
       " '011': '#2ca0b4',\n",
       " '101': '#ffa0b4',\n",
       " '111': '#eeeeee'}"
      ]
     },
     "execution_count": 5,
     "metadata": {},
     "output_type": "execute_result"
    }
   ],
   "source": [
    "venn3_palette1"
   ]
  },
  {
   "cell_type": "code",
   "execution_count": 6,
   "id": "1b1b15cd-ddb5-4885-acbb-e971d4f4130c",
   "metadata": {},
   "outputs": [
    {
     "data": {
      "text/plain": [
       "{'100': '#bbbb11',\n",
       " '010': '#777777',\n",
       " '001': '#bb11bb',\n",
       " '110': '#bbaa77',\n",
       " '011': '#aa77bb',\n",
       " '101': '#bbaabb',\n",
       " '111': '#eeeeee'}"
      ]
     },
     "execution_count": 6,
     "metadata": {},
     "output_type": "execute_result"
    }
   ],
   "source": [
    "venn3_palette2"
   ]
  },
  {
   "cell_type": "code",
   "execution_count": 7,
   "id": "68ddb056-cc9e-46df-b925-1f62d58f763d",
   "metadata": {},
   "outputs": [
    {
     "name": "stdout",
     "output_type": "stream",
     "text": [
      "{'palette1': venn3_palette1\n",
      " 'palette2': venn3_palette2\n",
      " 'venn3_palette1': venn3_palette1\n",
      " 'venn3_palette2': venn3_palette2\n",
      " '1': venn3_palette1\n",
      " '2': venn3_palette2}\n"
     ]
    }
   ],
   "source": [
    "# venn3_palette_alias\n",
    "\n",
    "p1, p2, pa = venn3_palette1, venn3_palette2, venn3_palette_alias\n",
    "\n",
    "# func to identify if given dict is venn3_pallete1, venn3_palette2, or none of them\n",
    "f = lambda d: int(d in [p1, p2]) + int(d == p2)\n",
    "\n",
    "# Display items in venn3_palette_alias\n",
    "print(\n",
    "    \"{\"+\"\\n \".join([\n",
    "        f\"'{k}': {[v, 'venn3_palette1', 'venn3_palette2'][f(v)]}\" for k, v in pa.items()\n",
    "    ])+\"}\"\n",
    ")"
   ]
  },
  {
   "cell_type": "markdown",
   "id": "3e84278e-516f-4403-80cc-cc8bdf5fcaef",
   "metadata": {},
   "source": [
    "## Pipeline Arguments and Utility Function\n",
    "- `artist_pipeline_adgile`: for `Artist.pipeline`\n",
    "- `eda_pipeline_adgile`: for `EDA.pipeline`\n",
    "- `sgoa_pipeline_adgile`: for `StratifiedGOAnalysis.pipeline`\n",
    "- **Note**: keys and values\n",
    "    - keys: name of functions to be executed in the pipeline\n",
    "    - values: function to check if the corresponding output files already exist\n",
    "        - `o`: dirname to export output files\n",
    "        - `spbd`: True in longitudinal comparisons, otherwise False\n",
    "        - return: True if all output files exist, otherwise False\n",
    "- `is_skippable`: called in `EDA.__init__` and `StratifiedGOAnalysis.__init__` to avoid duplicated processes\n",
    "    - arguments\n",
    "        - `adgile_dict`: `artist_pipeline_adgile`, `eda_pipeline_adgile`, or `sgoa_pipeline_adgile`\n",
    "        - `*args`: arguments for functions in `adgile_dict` (e.g., `o`, `spbd`)\n",
    "    - returns: True when the whole procedure is already done"
   ]
  },
  {
   "cell_type": "code",
   "execution_count": 8,
   "id": "0ff4827b-4b13-42b2-a097-c0dbf1b2dcdd",
   "metadata": {},
   "outputs": [
    {
     "data": {
      "text/plain": [
       "{'comparison_schematic': <function tools._preference.<lambda>(o)>,\n",
       " 'time_variation': <function tools._preference.<lambda>(o)>,\n",
       " 'analogical_schematic': <function tools._preference.<lambda>(o)>}"
      ]
     },
     "execution_count": 8,
     "metadata": {},
     "output_type": "execute_result"
    }
   ],
   "source": [
    "artist_pipeline_adgile"
   ]
  },
  {
   "cell_type": "code",
   "execution_count": 9,
   "id": "861c4e4c-adb6-46e7-99a7-bbcf805ca2a0",
   "metadata": {},
   "outputs": [
    {
     "data": {
      "text/plain": [
       "{'scatter_plot': <function tools._preference.<lambda>(o, spbd)>,\n",
       " 'component_plot': <function tools._preference.<lambda>(o, spbd)>,\n",
       " 'butterfly_plot': <function tools._preference.<lambda>(o, spbd)>,\n",
       " 'gene_regulation_venn_diagram': <function tools._preference.<lambda>(o, spbd)>}"
      ]
     },
     "execution_count": 9,
     "metadata": {},
     "output_type": "execute_result"
    }
   ],
   "source": [
    "eda_pipeline_adgile"
   ]
  },
  {
   "cell_type": "code",
   "execution_count": 10,
   "id": "a1b006f5-ef92-4319-acc3-358aa7c35eb4",
   "metadata": {},
   "outputs": [
    {
     "data": {
      "text/plain": [
       "{'silent_enrichment_analysis': <function tools._preference.<lambda>(o, spbd)>,\n",
       " 'top_go_venn': <function tools._preference.<lambda>(o, spbd)>,\n",
       " 'go_venn': <function tools._preference.<lambda>(o, spbd)>,\n",
       " 'silent_go2gene_barplot': <function tools._preference.<lambda>(o, spbd)>}"
      ]
     },
     "execution_count": 10,
     "metadata": {},
     "output_type": "execute_result"
    }
   ],
   "source": [
    "sgoa_pipeline_adgile"
   ]
  },
  {
   "cell_type": "code",
   "execution_count": 11,
   "id": "c55f0459-12e3-40de-8dc3-23bb09744fae",
   "metadata": {},
   "outputs": [
    {
     "data": {
      "text/plain": [
       "True"
      ]
     },
     "execution_count": 11,
     "metadata": {},
     "output_type": "execute_result"
    }
   ],
   "source": [
    "# example for is_skippable\n",
    "from tools import EDA, SuematsuData\n",
    "\n",
    "# run EDA pipeline\n",
    "eda = EDA(data=SuematsuData())\n",
    "\n",
    "# is_skippable evaluates if the EDA pipeline is already executed\n",
    "is_skippable(\n",
    "    # adgile_dict\n",
    "    eda_pipeline_adgile,\n",
    "    \n",
    "    # arguments for `o` and `spbd`\n",
    "    eda.out, eda.args\n",
    ")"
   ]
  }
 ],
 "metadata": {
  "kernelspec": {
   "display_name": "Python 3 (ipykernel)",
   "language": "python",
   "name": "python3"
  },
  "language_info": {
   "codemirror_mode": {
    "name": "ipython",
    "version": 3
   },
   "file_extension": ".py",
   "mimetype": "text/x-python",
   "name": "python",
   "nbconvert_exporter": "python",
   "pygments_lexer": "ipython3",
   "version": "3.10.8"
  }
 },
 "nbformat": 4,
 "nbformat_minor": 5
}
