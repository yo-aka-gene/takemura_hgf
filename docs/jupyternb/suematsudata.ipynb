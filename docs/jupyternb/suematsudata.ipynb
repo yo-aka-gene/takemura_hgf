{
 "cells": [
  {
   "cell_type": "markdown",
   "id": "d01c76fd-8ed6-4058-b613-b0255ad85876",
   "metadata": {},
   "source": [
    "# WIP\n",
    "- Docs preparation is on going!\n",
    "- We will publish our online documentations when our manuscripts got accepted!"
   ]
  }
 ],
 "metadata": {
  "kernelspec": {
   "display_name": "Python 3 (ipykernel)",
   "language": "python",
   "name": "python3"
  },
  "language_info": {
   "codemirror_mode": {
    "name": "ipython",
    "version": 3
   },
   "file_extension": ".py",
   "mimetype": "text/x-python",
   "name": "python",
   "nbconvert_exporter": "python",
   "pygments_lexer": "ipython3",
   "version": "3.10.8"
  }
 },
 "nbformat": 4,
 "nbformat_minor": 5
}
